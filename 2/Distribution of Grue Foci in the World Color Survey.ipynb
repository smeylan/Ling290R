{
 "cells": [
  {
   "cell_type": "code",
   "execution_count": 53,
   "metadata": {
    "collapsed": true
   },
   "outputs": [],
   "source": [
    "%matplotlib inline\n",
    "import pandas, numpy, ggplot"
   ]
  },
  {
   "cell_type": "code",
   "execution_count": 54,
   "metadata": {
    "collapsed": false
   },
   "outputs": [],
   "source": [
    "names = pandas.read_table('data/term.txt', names = ['lg','spkr','chip','name'], encoding='utf-8')\n",
    "foci = pandas.read_table('data/foci-exp.txt', names = ['lg','spkr','term_number','name','focus'], encoding='utf-8')\n",
    "# NB: multiple foci for each (lg, spkr, color name)"
   ]
  },
  {
   "cell_type": "code",
   "execution_count": 55,
   "metadata": {
    "collapsed": false
   },
   "outputs": [],
   "source": [
    "chip_coordinates = pandas.read_table('cnum-vhcm-lab-new.txt', encoding='utf-8').iloc[:,0:3]\n",
    "chip_coordinates.columns =['num','v','h']\n",
    "chip_coordinates['code'] = chip_coordinates['v'].astype('str') + chip_coordinates['h'].astype('str')\n",
    "\n",
    "# make dictionaries to convert from code to number and back\n",
    "code_to_number = dict(zip(chip_coordinates['code'], chip_coordinates['num']))\n",
    "number_to_code = dict(zip(chip_coordinates['num'], chip_coordinates['code']))\n",
    "\n",
    "# test using the values from the starter code \n",
    "if code_to_number['B23']!= 221:\n",
    "    raise ValueError('B23 should corresond to chip number 221')"
   ]
  },
  {
   "cell_type": "code",
   "execution_count": 56,
   "metadata": {
    "collapsed": false
   },
   "outputs": [],
   "source": [
    "# get the set of codes corresponding from focal green to focal blue\n",
    "gb_span_code = ['F'+str(i) for i in range(17,28)]  # codes for chips spanning from focal green to focal blue\n",
    "gb_span_num = [code_to_number[c] for c in gb_span_code]"
   ]
  },
  {
   "cell_type": "markdown",
   "metadata": {},
   "source": [
    "# Replicate Figure 2 from Lindsey and Brown, 2004 "
   ]
  },
  {
   "cell_type": "markdown",
   "metadata": {},
   "source": [
    "### Find all speakers with a \"grue\" term"
   ]
  },
  {
   "cell_type": "code",
   "execution_count": 57,
   "metadata": {
    "collapsed": false
   },
   "outputs": [],
   "source": [
    "#find the subset of items correpsonding to the span, so that we don't have to operate on all data \n",
    "labelsUsedInGrueRange = names[names['chip'].isin(gb_span_num)]\n",
    "\n",
    "def all_same(items):\n",
    "    return all(x == items.values[0] for x in items.values)\n",
    "\n",
    "# apply 'all_same' function to the set of color names in the grue range for each speaker in each language\n",
    "all_same_for_grue = labelsUsedInGrueRange.groupby(['lg','spkr'])['name'].agg(all_same)\n",
    "grueSpeakers = pandas.DataFrame(all_same_for_grue[all_same_for_grue].index.tolist(), columns=['lg','spkr'])\n",
    "\n",
    "#make a new table with the color term used by each grue speaker\n",
    "gs = grueSpeakers.merge(labelsUsedInGrueRange, on=['lg', 'spkr'])\n",
    "gs = gs[gs['chip'] == 77]\n",
    "gs = gs.drop('chip', 1)"
   ]
  },
  {
   "cell_type": "code",
   "execution_count": 58,
   "metadata": {
    "collapsed": false
   },
   "outputs": [
    {
     "name": "stdout",
     "output_type": "stream",
     "text": [
      "Proportion Speakers With A Grue Term: 0.358901897457\n"
     ]
    }
   ],
   "source": [
    "# get the proportion of speakers with a grue term\n",
    "numGrueSpeakers = float(len(numpy.unique(grueSpeakers['lg'].map(str)+grueSpeakers['spkr'].map(str))))\n",
    "numAllSpeakers = len(numpy.unique(names['lg'].map(str)+names['spkr'].map(str))) \n",
    "print('Proportion Speakers With A Grue Term: '+ str(numGrueSpeakers / numAllSpeakers))"
   ]
  },
  {
   "cell_type": "markdown",
   "metadata": {},
   "source": [
    "### Find distribution over foci among speakers with a \"grue\" term "
   ]
  },
  {
   "cell_type": "code",
   "execution_count": 59,
   "metadata": {
    "collapsed": false
   },
   "outputs": [],
   "source": [
    "gs_with_focus = gs.merge(foci)\n",
    "gs_with_focus['column'] = [x[1:] for x in gs_with_focus['focus']]\n",
    "gs_with_focus['column']=  gs_with_focus['column'].astype('int') "
   ]
  },
  {
   "cell_type": "code",
   "execution_count": 60,
   "metadata": {
    "collapsed": false
   },
   "outputs": [
    {
     "data": {
      "image/png": "[encoded data removed]",
      "text/plain": [
       "<matplotlib.figure.Figure at 0x7f2bb4438b50>"
      ]
     },
     "metadata": {},
     "output_type": "display_data"
    },
    {
     "data": {
      "text/plain": [
       "<ggplot: (8739105091869)>"
      ]
     },
     "execution_count": 60,
     "metadata": {},
     "output_type": "execute_result"
    }
   ],
   "source": [
    "ggplot.ggplot(gs_with_focus[gs_with_focus['column'] != 0], ggplot.aes(x='column')) + \\\n",
    "ggplot.geom_histogram(fill='blue', alpha=.5) + ggplot.xlab('Column Number') + ggplot.ylab('Number of Subjects') + \\\n",
    "ggplot.geom_vline(xintercept = 17, colour='green') + ggplot.geom_vline(xintercept = 27, colour='blue')"
   ]
  },
  {
   "cell_type": "markdown",
   "metadata": {},
   "source": [
    "# Extension: Are There Unimodal Grue Speakers?"
   ]
  },
  {
   "cell_type": "markdown",
   "metadata": {},
   "source": [
    "Open question: Is there in fact a reasonably-sized subset of grue speakers who drop their grue foci only in the in-between saddle region, in a pattern consistent with a bump centered in that region?  Recall that:\n",
    "focal green = F17 focal blue = F27\n",
    "The middle of that range is hue column 22.  Find (a) what proportion of grue speakers place their grue foci only within say 3 columns on either side of that, i.e. in columns 19 through 25, and (b) the shape of the distribution of grue focus hits for that subset of speakers.  Feel free to adjust search as needed to uncover relevant and/or interesting material."
   ]
  },
  {
   "cell_type": "markdown",
   "metadata": {},
   "source": [
    "### a) grue speakers with foci only within 19-25"
   ]
  },
  {
   "cell_type": "code",
   "execution_count": 61,
   "metadata": {
    "collapsed": false
   },
   "outputs": [
    {
     "name": "stdout",
     "output_type": "stream",
     "text": [
      "proportion of unimodal grue speakers: 0.213723284589\n"
     ]
    }
   ],
   "source": [
    "gs_with_focus\n",
    "limited_range = range(19,26)\n",
    "\n",
    "def in_set(items, set):\n",
    "    return all(x in set for x in items.values)\n",
    "\n",
    "gs_grue_center_temp = pandas.DataFrame(gs_with_focus.groupby(['lg','spkr'])['column'].agg(lambda x: in_set(x, limited_range)))\n",
    "unimodel_grue_speakers = pandas.DataFrame(gs_grue_center_temp[gs_grue_center_temp['column']].index.tolist(), columns=['lg','spkr'])\n",
    "\n",
    "print('proportion of unimodal grue speakers: '+ str(len(unimodel_grue_speakers) / numGrueSpeakers))"
   ]
  },
  {
   "cell_type": "markdown",
   "metadata": {},
   "source": [
    "### b) distribution of foci for unimodal grue speakers"
   ]
  },
  {
   "cell_type": "code",
   "execution_count": 62,
   "metadata": {
    "collapsed": false
   },
   "outputs": [],
   "source": [
    "ugs_with_focus = unimodel_grue_speakers.merge(gs_with_focus[['lg','spkr','name']]).merge(foci)\n",
    "ugs_with_focus['column'] = [x[1:] for x in ugs_with_focus['focus']]\n",
    "ugs_with_focus['column']=  ugs_with_focus['column'].astype('int') "
   ]
  },
  {
   "cell_type": "code",
   "execution_count": 63,
   "metadata": {
    "collapsed": false
   },
   "outputs": [
    {
     "data": {
      "image/png": "[encoded data removed]",
      "text/plain": [
       "<matplotlib.figure.Figure at 0x7f2bb3fac590>"
      ]
     },
     "metadata": {},
     "output_type": "display_data"
    },
    {
     "data": {
      "text/plain": [
       "<ggplot: (8739104969149)>"
      ]
     },
     "execution_count": 63,
     "metadata": {},
     "output_type": "execute_result"
    }
   ],
   "source": [
    "ggplot.ggplot(ugs_with_focus[ugs_with_focus['column'] != 0], ggplot.aes(x='column')) + \\\n",
    "ggplot.geom_histogram(fill='blue', alpha=.5) + ggplot.xlab('Column Number') + ggplot.ylab('Number of Subjects') + \\\n",
    "ggplot.geom_vline(xintercept = 17, colour='green') + ggplot.geom_vline(xintercept = 27, colour='blue')"
   ]
  }
 ],
 "metadata": {
  "kernelspec": {
   "display_name": "Python 2",
   "language": "python",
   "name": "python2"
  },
  "language_info": {
   "codemirror_mode": {
    "name": "ipython",
    "version": 2
   },
   "file_extension": ".py",
   "mimetype": "text/x-python",
   "name": "python",
   "nbconvert_exporter": "python",
   "pygments_lexer": "ipython2",
   "version": "2.7.6"
  }
 },
 "nbformat": 4,
 "nbformat_minor": 0
}

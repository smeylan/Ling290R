{
 "cells": [
  {
   "cell_type": "code",
   "execution_count": 31,
   "metadata": {
    "collapsed": false
   },
   "outputs": [],
   "source": [
    "%matplotlib inline\n",
    "import numpy as np, math, random\n",
    "from scipy.optimize import minimize\n",
    "import matplotlib.pyplot as plt\n",
    "import pdb"
   ]
  },
  {
   "cell_type": "markdown",
   "metadata": {},
   "source": [
    "# Replication"
   ]
  },
  {
   "cell_type": "code",
   "execution_count": 2,
   "metadata": {
    "collapsed": true
   },
   "outputs": [],
   "source": [
    "#completed functions\n",
    "def llplot(points):\n",
    "    \"\"\"\n",
    "    function to plot outline of articulable vowel space, and current points \n",
    "    within it.  argument points is a list of points.\n",
    "    \"\"\"\n",
    "    \n",
    "    # LL have 2 axes, M1 (x: 350 <= M1 <= 850) and M2 (y), both in mel.\n",
    "    # first plot the L&L outline\n",
    "    x = np.arange(350,850,.01)\n",
    "    y = [1150 + (1700 - 1150) * math.sqrt( (850-float(elt)) / (850-350) )\n",
    "         for elt in x]\n",
    "    plt.plot(x, y, 'k', linewidth=1.0) # 'k' means black\n",
    "    y = [1150 + (800 - 1150) * math.sqrt( (850-float(elt)) / (850-350) )\n",
    "         for elt in x]\n",
    "    plt.plot(x, y, 'k', linewidth=1.0)\n",
    "    plt.plot([350,350],[800,1700], 'k')\n",
    "    plt.xlabel('M1 (mel)')\n",
    "    plt.ylabel('M2 (mel)')\n",
    "    plt.axis([300, 900, 750,1750])  # xrange, then yrange\n",
    "    #plt.grid(True)\n",
    "    \n",
    "    # now plot points within the outline\n",
    "    points_x = [xcoord for (xcoord,ycoord) in points]\n",
    "    points_y = [ycoord for (xcoord,ycoord) in points]\n",
    "    plt.plot(points_x, points_y, 'ro', markersize=10)\n",
    "\n",
    "    # now display\n",
    "    plt.show()\n",
    "\n",
    "\n",
    "def create_ll_constraints(fpts):\n",
    "    \"\"\"\n",
    "    create constraints for constrained optimization, for a set of x,y points\n",
    "    represented in a flattened list.\n",
    "    these hard-coded constraints define the L&L articulatory subspace.\n",
    "    also return x,y bounds for these points.\n",
    "    \"\"\"\n",
    "    numpts = len(fpts) / 2     # number of x,y pairs.\n",
    "    cl = []    # constraint list\n",
    "    for i in range(numpts):\n",
    "        x_ix = 2*i\n",
    "        y_ix = (2*i)+1\n",
    "        x_lower = \"lambda x: x[\" +str(x_ix)+ \"] - 350\"   # x >= 350\n",
    "        x_upper = \"lambda x: 850 - x[\" +str(x_ix)+ \"]\"   # x <= 850\n",
    "        y_lower = \"lambda x: y_lower_bound(x[\" +str(x_ix)+\"],x[\"+str(y_ix)+\"])\"\n",
    "        y_upper = \"lambda x: y_upper_bound(x[\" +str(x_ix)+\"],x[\"+str(y_ix)+\"])\"\n",
    "#        print i, x_lower\n",
    "#        print i, x_upper\n",
    "#        print i, y_lower\n",
    "#        print i, y_upper\n",
    "#        print\n",
    "        cl.append({'type': 'ineq', 'fun': eval(x_lower)})\n",
    "        cl.append({'type': 'ineq', 'fun': eval(x_upper)})\n",
    "        cl.append({'type': 'ineq', 'fun': eval(y_lower)})\n",
    "        cl.append({'type': 'ineq', 'fun': eval(y_upper)})\n",
    "    return tuple(cl)"
   ]
  },
  {
   "cell_type": "code",
   "execution_count": 12,
   "metadata": {
    "collapsed": false
   },
   "outputs": [],
   "source": [
    "def bound(x, M20):\n",
    "    if (850 - x) < 0:\n",
    "        x = 0\n",
    "    return(1150 + (M20 - 1150) * math.sqrt( (850-x) / (850-350)))\n",
    "\n",
    "def y_upper_bound(x,y):\n",
    "    \"\"\"\n",
    "    L&L fn for y upper bound. \n",
    "    constraint satisified to the extent that returned value >= 0.\n",
    "    \"\"\"\n",
    "    return(bound(x, 1700) - y)    \n",
    "\n",
    "def y_lower_bound(x,y):\n",
    "    \"\"\"\n",
    "    L&L fn for y lower bound. \n",
    "    constraint satisified to the extent that returned value >= 0.\n",
    "    \"\"\"\n",
    "    return(y - bound(x, 800))\n",
    "\n",
    "\n",
    "def energy (pts):\n",
    "    \"\"\"\n",
    "    we are given a set of points.  the function computes the energy of these \n",
    "    points, i.e. non-dispersion, i.e. clusteredness, according to equation 2 \n",
    "    on p. 842 of liljencrants and lindblom.\n",
    "    \"\"\"    \n",
    "    #example pts: [(627, 1216), (510, 1180), (623, 1269)]\n",
    "    x_s = [pt[0] for pt in pts] \n",
    "    y_s = [pt[1] for pt in pts]\n",
    "    \n",
    "    vals = []\n",
    "    for i in range(1,len(pts)):\n",
    "        for j in range (0,i):\n",
    "            rSquared_ij = (x_s[i] - x_s[j])**2 + (y_s[i] - y_s[j])**2  \n",
    "            vals.append(1.0/ float(rSquared_ij))\n",
    "    return(sum(vals))\n",
    "\n",
    "def f_energy (fpts):\n",
    "    \"\"\"\n",
    "    a version of energy that takes a flattened list of pairs of x,y coords \n",
    "    as input.  for use with optimize.\n",
    "    \"\"\"\n",
    "    non_flattened_points = zip(fpts[0::2], fpts[1::2])\n",
    "    return energy(non_flattened_points)"
   ]
  },
  {
   "cell_type": "code",
   "execution_count": 13,
   "metadata": {
    "collapsed": false
   },
   "outputs": [
    {
     "data": {
      "image/png": "[encoded data removed]",
      "text/plain": [
       "<matplotlib.figure.Figure at 0x7f69b1c75910>"
      ]
     },
     "metadata": {},
     "output_type": "display_data"
    }
   ],
   "source": [
    "# define the center of the space, and a region around it to init pts in.\n",
    "x_center = 600   # around the center of the x range\n",
    "y_center = 1200  # around the center of the y range\n",
    "x_half_range = 100   # defining the midrange size above and below x center\n",
    "y_half_range = 100   # defining the midrange size above and below y center\n",
    "x_range = range(x_center - x_half_range, x_center + x_half_range + 1)\n",
    "y_range = range(y_center - y_half_range, y_center + y_half_range + 1)\n",
    "\n",
    "# state how many points, and initialize them.\n",
    "n = 3\n",
    "\n",
    "# each point is represented as an (x,y) tuple.\n",
    "points = []\n",
    "for i in range(n):\n",
    "    pt = (random.choice(x_range), random.choice(y_range))\n",
    "    points.append(pt)\n",
    "\n",
    "# plot initialized points.\n",
    "llplot(points)"
   ]
  },
  {
   "cell_type": "code",
   "execution_count": 14,
   "metadata": {
    "collapsed": false
   },
   "outputs": [
    {
     "data": {
      "text/plain": [
       "({'fun': <function __main__.<lambda>>, 'type': 'ineq'},\n",
       " {'fun': <function __main__.<lambda>>, 'type': 'ineq'},\n",
       " {'fun': <function __main__.<lambda>>, 'type': 'ineq'},\n",
       " {'fun': <function __main__.<lambda>>, 'type': 'ineq'},\n",
       " {'fun': <function __main__.<lambda>>, 'type': 'ineq'},\n",
       " {'fun': <function __main__.<lambda>>, 'type': 'ineq'},\n",
       " {'fun': <function __main__.<lambda>>, 'type': 'ineq'},\n",
       " {'fun': <function __main__.<lambda>>, 'type': 'ineq'},\n",
       " {'fun': <function __main__.<lambda>>, 'type': 'ineq'},\n",
       " {'fun': <function __main__.<lambda>>, 'type': 'ineq'},\n",
       " {'fun': <function __main__.<lambda>>, 'type': 'ineq'},\n",
       " {'fun': <function __main__.<lambda>>, 'type': 'ineq'})"
      ]
     },
     "execution_count": 14,
     "metadata": {},
     "output_type": "execute_result"
    }
   ],
   "source": [
    "# flatten points into a 1-d list for optimization. One 6-tuple (3 2d points— x1, y1, x1, y2, x3, y3)\n",
    "f_points = [item for pair in points for item in pair]\n",
    "\n",
    "# now try to optimize energy, with x,y bounds and constraints.\n",
    "# create bounds and constraints.\n",
    "cc = create_ll_constraints(f_points)\n",
    "cc"
   ]
  },
  {
   "cell_type": "code",
   "execution_count": 15,
   "metadata": {
    "collapsed": false
   },
   "outputs": [
    {
     "name": "stdout",
     "output_type": "stream",
     "text": [
      "energy before minimization 0.00215056745384\n",
      "  NIT    FC           OBJFUN            GNORM\n",
      "    1     8     2.150567E-03     2.488011E-04\n",
      "    2    16     2.150506E-03     2.487893E-04\n",
      "    3    24     2.150196E-03     2.487308E-04\n",
      "    4    32     2.148650E-03     2.484384E-04\n",
      "    5    40     2.140958E-03     2.469852E-04\n",
      "    6    48     2.103380E-03     2.399265E-04\n",
      "    7    56     1.935358E-03     2.092037E-04\n",
      "    8    64     1.409742E-03     1.225940E-04\n",
      "    9    72     9.928925E-04     6.555311E-05\n",
      "   10    80     7.334818E-04     3.629859E-05\n",
      "   11    88     5.594242E-04     1.994751E-05\n",
      "   12    96     4.501768E-04     1.149091E-05\n",
      "   13   104     3.854668E-04     7.818103E-06\n",
      "   14   112     3.527870E-04     7.175990E-06\n",
      "   15   120     3.406295E-04     7.776793E-06\n",
      "   16   128     3.380158E-04     8.390855E-06\n",
      "   17   136     3.377841E-04     8.643921E-06\n",
      "   18   144     3.377790E-04     8.686846E-06\n",
      "   19   152     3.377789E-04     8.689262E-06\n",
      "   20   160     3.377785E-04     8.695714E-06\n",
      "   21   168     3.377777E-04     8.704573E-06\n",
      "   22   176     3.377753E-04     8.719777E-06\n",
      "   23   184     3.377693E-04     8.743852E-06\n",
      "   24   192     3.377534E-04     8.783052E-06\n",
      "   25   200     3.377121E-04     8.846132E-06\n",
      "   26   208     3.376045E-04     8.947749E-06\n",
      "   27   216     3.373253E-04     9.110754E-06\n",
      "   28   224     3.366030E-04     9.369931E-06\n",
      "   29   232     3.347301E-04     9.774949E-06\n",
      "   30   240     3.296702E-04     1.038051E-05\n",
      "   31   248     3.091189E-04     1.090964E-05\n",
      "   32   256     7.979833E-05     1.496040E-06\n",
      "   33   264     3.293006E-05     3.613383E-07\n",
      "   34   272     3.303730E-05     3.632384E-07\n",
      "   35   280     3.303729E-05     3.632376E-07\n",
      "   36   288     3.303722E-05     3.632351E-07\n",
      "   37   296     3.303691E-05     3.632232E-07\n",
      "   38   304     3.303529E-05     3.631623E-07\n",
      "   39   312     3.302664E-05     3.628418E-07\n",
      "   40   320     3.296785E-05     3.608490E-07\n",
      "   41   328     3.201871E-05     3.354376E-07\n",
      "   42   336     1.994535E-05     9.598511E-08\n",
      "   43   344     1.953131E-05     8.475191E-08\n",
      "   44   352     1.915018E-05     8.269792E-08\n",
      "   45   360     1.917543E-05     8.295925E-08\n",
      "   46   368     1.917544E-05     8.294065E-08\n",
      "   47   376     1.917544E-05     8.294605E-08\n",
      "   48   384     1.917544E-05     8.294632E-08\n",
      "   49   392     1.917544E-05     8.294698E-08\n",
      "   50   400     1.917543E-05     8.294714E-08\n",
      "   51   408     1.917543E-05     8.294712E-08\n",
      "   52   416     1.917542E-05     8.294857E-08\n",
      "   53   424     1.917536E-05     8.294962E-08\n",
      "   54   432     1.917508E-05     8.295054E-08\n",
      "   55   440     1.917365E-05     8.294773E-08\n",
      "   56   448     1.916653E-05     8.291931E-08\n",
      "   57   456     1.913097E-05     8.274591E-08\n",
      "   58   464     1.895448E-05     8.183892E-08\n",
      "   59   472     1.810518E-05     7.745211E-08\n",
      "   60   480     1.634515E-05     7.486654E-08\n",
      "   61   488     1.434565E-05     8.866401E-08\n",
      "   62   496     1.317958E-05     8.245808E-08\n",
      "   63   504     1.319368E-05     8.238885E-08\n",
      "   64   512     1.314634E-05     8.126289E-08\n",
      "   65   520     1.293828E-05     7.623259E-08\n",
      "   66   528     1.268656E-05     6.996985E-08\n",
      "   67   536     1.268856E-05     6.997057E-08\n",
      "   68   544     1.268856E-05     6.997042E-08\n",
      "   69   552     1.268856E-05     6.997044E-08\n",
      "   70   560     1.268856E-05     6.997047E-08\n",
      "   71   568     1.268855E-05     6.997051E-08\n",
      "   72   576     1.268855E-05     6.997035E-08\n",
      "   73   584     1.268852E-05     6.997015E-08\n",
      "   74   592     1.268840E-05     6.996884E-08\n",
      "   75   600     1.268777E-05     6.996221E-08\n",
      "   76   608     1.268464E-05     6.992901E-08\n",
      "   77   616     1.266902E-05     6.976325E-08\n",
      "   78   624     1.259166E-05     6.894516E-08\n",
      "   79   632     1.222241E-05     6.510372E-08\n",
      "   80   640     1.072913E-05     5.066021E-08\n",
      "   81   648     7.654837E-06     2.926300E-08\n",
      "   82   656     7.670445E-06     2.931063E-08\n",
      "   83   664     7.670445E-06     2.931064E-08\n",
      "   84   672     7.670445E-06     2.931064E-08\n",
      "   85   680     7.670445E-06     2.931072E-08\n",
      "   86   688     7.670445E-06     2.931059E-08\n",
      "   87   696     7.670445E-06     2.931064E-08\n",
      "   88   704     7.670443E-06     2.931064E-08\n",
      "   89   712     7.670435E-06     2.931064E-08\n",
      "   90   720     7.670396E-06     2.931020E-08\n",
      "   91   728     7.670198E-06     2.930874E-08\n",
      "   92   736     7.669208E-06     2.930108E-08\n",
      "   93   744     7.664267E-06     2.926303E-08\n",
      "   94   752     7.639703E-06     2.907384E-08\n",
      "   95   760     7.520385E-06     2.816514E-08\n",
      "   96   768     6.999943E-06     2.439913E-08\n",
      "   97   776     6.108314E-06     1.857153E-08\n",
      "   98   784     6.075055E-06     1.917866E-08\n",
      "   99   792     6.067497E-06     1.967121E-08\n",
      "  100   800     6.066719E-06     1.988395E-08\n",
      "  101   809     6.066712E-06     1.988981E-08\n",
      "  102   818     6.066706E-06     1.989538E-08\n",
      "  103   827     6.066702E-06     1.990070E-08\n",
      "  104   836     6.066698E-06     1.990553E-08\n",
      "  105   844     6.066685E-06     1.994677E-08\n",
      "  106   853     6.066685E-06     1.994697E-08\n",
      "  107   862     6.066685E-06     1.994755E-08\n",
      "  108   871     6.066685E-06     1.994774E-08\n",
      "  109   880     6.066685E-06     1.994834E-08\n",
      "  110   889     6.066685E-06     1.994837E-08\n",
      "  111   898     6.066685E-06     1.994904E-08\n",
      "  112   916     6.066685E-06     1.994905E-08\n",
      "  113   924     6.066685E-06     1.994906E-08\n",
      "  114   932     6.066685E-06     1.994906E-08\n",
      "  115   940     6.066685E-06     1.994901E-08\n",
      "  116   949     6.066685E-06     1.994905E-08\n",
      "  117   957     6.066685E-06     1.994901E-08\n",
      "  118   966     6.066685E-06     1.994901E-08\n",
      "  119   974     6.066684E-06     1.994901E-08\n",
      "  120   982     6.066679E-06     1.994892E-08\n",
      "  121   990     6.066653E-06     1.994837E-08\n",
      "  122   998     6.517959E-06     1.957060E-08\n",
      "  123  1006     6.171770E-06     1.895132E-08\n",
      "  124  1014     6.173816E-06     1.894730E-08\n",
      "  125  1022     6.173295E-06     1.894383E-08\n",
      "  126  1030     6.170690E-06     1.892675E-08\n",
      "  127  1038     6.157758E-06     1.884198E-08\n",
      "  128  1046     6.095437E-06     1.843521E-08\n",
      "  129  1055     6.054936E-06     1.815468E-08\n",
      "  130  1063     5.975928E-06     1.754184E-08\n",
      "  131  1079     5.975928E-06     1.754178E-08\n",
      "  132  1090     5.975911E-06     1.752175E-08\n",
      "  133  1100     5.975909E-06     1.752169E-08\n",
      "  134  1112     5.975908E-06     1.752174E-08\n",
      "  135  1120     5.961517E-06     1.746053E-08\n",
      "  136  1128     5.884638E-06     1.708701E-08\n",
      "  137  1136     5.735876E-06     1.662005E-08\n",
      "  138  1144     5.729000E-06     1.659948E-08\n",
      "  139  1152     5.729002E-06     1.659956E-08\n",
      "  140  1163     5.729002E-06     1.659954E-08\n",
      "  141  1171     5.729002E-06     1.659951E-08\n",
      "  142  1179     5.729002E-06     1.659954E-08\n",
      "  143  1187     5.729002E-06     1.659957E-08\n",
      "  144  1195     5.729002E-06     1.659952E-08\n",
      "  145  1203     5.729002E-06     1.659952E-08\n",
      "  146  1211     5.729002E-06     1.659955E-08\n",
      "  147  1219     5.729002E-06     1.659953E-08\n",
      "  148  1227     5.729002E-06     1.659957E-08\n",
      "  149  1235     5.729002E-06     1.659957E-08\n",
      "  150  1243     5.729001E-06     1.659954E-08\n",
      "  151  1251     5.728997E-06     1.659944E-08\n",
      "  152  1259     5.728977E-06     1.659919E-08\n",
      "  153  1267     5.728909E-06     1.659833E-08\n",
      "  154  1275     5.728835E-06     1.659741E-08\n",
      "  155  1283     5.728714E-06     1.659589E-08\n",
      "  156  1291     5.728545E-06     1.659373E-08\n",
      "  157  1299     5.728297E-06     1.659053E-08\n",
      "  158  1307     5.727938E-06     1.658597E-08\n",
      "  159  1315     5.727422E-06     1.657928E-08\n",
      "  160  1323     5.726688E-06     1.656984E-08\n",
      "  161  1331     5.725654E-06     1.655637E-08\n",
      "  162  1339     5.724229E-06     1.653748E-08\n",
      "  163  1347     5.722319E-06     1.651163E-08\n",
      "  164  1355     5.719862E-06     1.647738E-08\n",
      "  165  1363     5.716893E-06     1.643375E-08\n",
      "  166  1371     5.713626E-06     1.638168E-08\n",
      "  167  1379     5.710501E-06     1.632491E-08\n",
      "  168  1387     5.708111E-06     1.627009E-08\n",
      "  169  1395     5.706866E-06     1.622575E-08\n",
      "  170  1403     5.706598E-06     1.619765E-08\n",
      "  171  1411     5.706677E-06     1.618533E-08\n",
      "  172  1419     5.706716E-06     1.618251E-08\n",
      "  173  1427     5.706719E-06     1.618221E-08\n",
      "  174  1435     5.706719E-06     1.618224E-08\n",
      "  175  1443     5.706719E-06     1.618217E-08\n",
      "  176  1451     5.706719E-06     1.618226E-08\n",
      "  177  1460     5.706719E-06     1.618221E-08\n",
      "  178  1476     5.706719E-06     1.618223E-08\n",
      "  179  1484     5.706719E-06     1.618220E-08\n",
      "  181  1502     5.706719E-06     1.618220E-08\n",
      "  182  1510     5.706719E-06     1.618228E-08\n",
      "Optimization terminated successfully.    (Exit mode 0)\n",
      "            Current function value: 5.70671905201e-06\n",
      "            Iterations: 182\n",
      "            Function evaluations: 1521\n",
      "            Gradient evaluations: 181\n",
      "energy after minimization 5.70671905201e-06\n"
     ]
    }
   ],
   "source": [
    "###### now optimize.\n",
    "# need to be careful with settings of:\n",
    "# tol: acceptable tolerance\n",
    "# maxiter: max number of iterations.\n",
    "print \"energy before minimization\", f_energy(f_points)\n",
    "res = minimize(f_energy, f_points, constraints=cc, method='SLSQP', \n",
    "               options={'disp': True, 'iprint': 2, 'maxiter': 5000}, tol = 1.0E-100)\n",
    "print \"energy after minimization\", res.fun\n"
   ]
  },
  {
   "cell_type": "code",
   "execution_count": 16,
   "metadata": {
    "collapsed": false
   },
   "outputs": [
    {
     "data": {
      "image/png": "[encoded data removed]",
      "text/plain": [
       "<matplotlib.figure.Figure at 0x7f69b1f85d10>"
      ]
     },
     "metadata": {},
     "output_type": "display_data"
    }
   ],
   "source": [
    "new_points = zip(res.x[0::2], res.x[1::2])\n",
    "llplot(new_points)"
   ]
  },
  {
   "cell_type": "markdown",
   "metadata": {},
   "source": [
    "# Extension"
   ]
  },
  {
   "cell_type": "code",
   "execution_count": 25,
   "metadata": {
    "collapsed": false
   },
   "outputs": [],
   "source": [
    "def rsq(pt1,pt2):\n",
    "    \"\"\"\n",
    "    we are given two points.  the function computes and returns r-squared, \n",
    "    or the distance squared, between these two points.\n",
    "    \"\"\"\n",
    "    \n",
    "    rsquared = ((pt1[0]-pt2[0])**2 +       # x coords\n",
    "                (pt1[1]-pt2[1])**2)        # y coords\n",
    "    return rsquared\n",
    "\n",
    "def nose_weight(pt):\n",
    "    \"\"\"\n",
    "    given pt = (x,y), return the weight associated with that point.  \n",
    "    weight is a gaussian fn of distance from the \"nose\" of the space,\n",
    "    at (850,1150).\n",
    "    alpha controls width\n",
    "    \"\"\"\n",
    "    nose = (850,1150)\n",
    "    alpha = .000005  # tweaked \n",
    "    distsq = rsq(pt,nose)\n",
    "    return math.exp(-alpha * distsq)\n",
    "\n",
    "\n",
    "def weighted_energy (pts):\n",
    "    \"\"\"\n",
    "    energy but weighted by similarity to nose of L&L region.    \n",
    "    \"\"\"\n",
    "    x_s = [pt[0] for pt in pts] \n",
    "    y_s = [pt[1] for pt in pts]\n",
    "    \n",
    "    vals = []\n",
    "    weights = [] \n",
    "    for i in range(1,len(pts)):\n",
    "        for j in range (0,i):\n",
    "            rSquared_ij = (x_s[i] - x_s[j])**2 + (y_s[i] - y_s[j])**2  \n",
    "            vals.append(1.0/ float(rSquared_ij))\n",
    "            weights.append( nose_weight((x_s[i], y_s[i])) + nose_weight((x_s[j], y_s[j])))\n",
    "    return(np.sum(np.array(vals) * np.array(weights)))\n",
    "\n",
    "\n",
    "\n",
    "def f_weighted_energy (fpts):\n",
    "    \"\"\"\n",
    "    like f_energy but with weights.\n",
    "    \"\"\"\n",
    "    non_flattened_points = zip(fpts[0::2], fpts[1::2])\n",
    "    return weighted_energy(non_flattened_points)"
   ]
  },
  {
   "cell_type": "code",
   "execution_count": 29,
   "metadata": {
    "collapsed": false
   },
   "outputs": [
    {
     "data": {
      "image/png": "[encoded data removed]",
      "text/plain": [
       "<matplotlib.figure.Figure at 0x7f69b1cbd250>"
      ]
     },
     "metadata": {},
     "output_type": "display_data"
    }
   ],
   "source": [
    "# define the center of the space, and a region around it to init pts in.\n",
    "x_center = 600   # around the center of the x range\n",
    "y_center = 1200  # around the center of the y range\n",
    "x_half_range = 100   # defining the midrange size above and below x center\n",
    "y_half_range = 100   # defining the midrange size above and below y center\n",
    "x_range = range(x_center - x_half_range, x_center + x_half_range + 1)\n",
    "y_range = range(y_center - y_half_range, y_center + y_half_range + 1)\n",
    "\n",
    "# state how many points, and initialize them.\n",
    "n = 12\n",
    "\n",
    "# each point is represented as an (x,y) tuple.\n",
    "points = []\n",
    "for i in range(n):\n",
    "    pt = (random.choice(x_range), random.choice(y_range))\n",
    "    points.append(pt)\n",
    "\n",
    "# plot that point and the contour.\n",
    "llplot(points)\n",
    "\n",
    "# flatten points into a 1-d list for optimization.\n",
    "f_points = [item for pair in points for item in pair]\n",
    "\n",
    "# now try to optimize energy, with x,y bounds and constraints.\n",
    "# create bounds and constraints.\n",
    "cc = create_ll_constraints(f_points)"
   ]
  },
  {
   "cell_type": "code",
   "execution_count": 30,
   "metadata": {
    "collapsed": false
   },
   "outputs": [
    {
     "name": "stdout",
     "output_type": "stream",
     "text": [
      "energy before minimization 0.0306468093947\n",
      "energy after minimization 0.000393198426614\n"
     ]
    },
    {
     "data": {
      "image/png": "[encoded data removed]",
      "text/plain": [
       "<matplotlib.figure.Figure at 0x7f69b2460c50>"
      ]
     },
     "metadata": {},
     "output_type": "display_data"
    }
   ],
   "source": [
    "# now optimize.\n",
    "# need to be careful with settings of:\n",
    "# tol: acceptable tolerance\n",
    "# maxiter: max number of iterations.\n",
    "print \"energy before minimization\", f_energy(f_points)\n",
    "res = minimize(f_weighted_energy, f_points, constraints=cc, method='SLSQP', \n",
    "               options={'disp': True, 'iprint': 0, 'maxiter': 5000}, tol = 1.0E-16)\n",
    "print \"energy after minimization\", res.fun\n",
    "new_points = zip(res.x[0::2], res.x[1::2])\n",
    "llplot(new_points)"
   ]
  }
 ],
 "metadata": {
  "kernelspec": {
   "display_name": "Python 2",
   "language": "python",
   "name": "python2"
  },
  "language_info": {
   "codemirror_mode": {
    "name": "ipython",
    "version": 2
   },
   "file_extension": ".py",
   "mimetype": "text/x-python",
   "name": "python",
   "nbconvert_exporter": "python",
   "pygments_lexer": "ipython2",
   "version": "2.7.6"
  }
 },
 "nbformat": 4,
 "nbformat_minor": 0
}
